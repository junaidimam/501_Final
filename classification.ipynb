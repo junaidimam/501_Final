{
  "nbformat": 4,
  "nbformat_minor": 0,
  "metadata": {
    "colab": {
      "provenance": []
    },
    "kernelspec": {
      "name": "python3",
      "display_name": "Python 3"
    },
    "language_info": {
      "name": "python"
    }
  },
  "cells": [
    {
      "cell_type": "code",
      "execution_count": 1,
      "metadata": {
        "id": "bnRpqarbHT0z"
      },
      "outputs": [],
      "source": [
        "import pandas as pd\n",
        "import numpy as np\n",
        "\n",
        "# Data visualisation\n",
        "import seaborn as sns\n",
        "import matplotlib.pyplot as plt\n",
        "\n",
        "# Machine learning\n",
        "from sklearn.pipeline import Pipeline\n",
        "from sklearn.compose import ColumnTransformer\n",
        "from sklearn.preprocessing import OneHotEncoder, OrdinalEncoder\n",
        "from sklearn.compose import make_column_transformer\n",
        "from sklearn.pipeline import make_pipeline\n",
        "from sklearn.model_selection import train_test_split\n",
        "from sklearn.linear_model import LinearRegression\n",
        "from sklearn.ensemble import GradientBoostingRegressor\n",
        "from sklearn.metrics import mean_absolute_error, mean_squared_error\n",
        "from sklearn import tree\n",
        "from sklearn.ensemble import RandomForestRegressor\n",
        "from sklearn.neighbors import KNeighborsRegressor\n",
        "from sklearn.impute import SimpleImputer\n",
        "from sklearn.pipeline import Pipeline\n",
        "from sklearn.preprocessing import StandardScaler\n",
        "from sklearn import set_config\n",
        "from sklearn.metrics import r2_score\n",
        "from sklearn import svm\n",
        "import numpy as np\n",
        "import matplotlib.pyplot as plt\n",
        "import seaborn as sns\n",
        "from sklearn import metrics\n",
        "from sklearn.metrics import classification_report\n",
        "from sklearn.tree import DecisionTreeClassifier\n",
        "from sklearn.linear_model import LogisticRegression\n",
        "from sklearn.metrics  import f1_score,accuracy_score"
      ]
    },
    {
      "cell_type": "code",
      "source": [
        "df = pd.read_csv(\"/content/drive/MyDrive/501 Final Project/code/data/ml.csv\")"
      ],
      "metadata": {
        "id": "dG9TglNdHpXf"
      },
      "execution_count": 2,
      "outputs": []
    },
    {
      "cell_type": "code",
      "source": [
        "attr_cat = []\n",
        "for index , row in df.iterrows():\n",
        "  if(row['attrition_percentage'] <= 10):\n",
        "    attr_cat.append(0)\n",
        "  elif(row['attrition_percentage'] <= 30):\n",
        "    attr_cat.append(1)\n",
        "  else:\n",
        "    attr_cat.append(2)\n",
        "df['attr_cat'] = attr_cat"
      ],
      "metadata": {
        "id": "pc7ej8rzHwGM"
      },
      "execution_count": 3,
      "outputs": []
    },
    {
      "cell_type": "code",
      "source": [
        "df['attr_cat'].value_counts()"
      ],
      "metadata": {
        "colab": {
          "base_uri": "https://localhost:8080/"
        },
        "id": "FAU1BOx6Iga6",
        "outputId": "0a434965-3712-4948-eb3b-90d9fccc71e9"
      },
      "execution_count": 4,
      "outputs": [
        {
          "output_type": "execute_result",
          "data": {
            "text/plain": [
              "0    623\n",
              "1    335\n",
              "2     56\n",
              "Name: attr_cat, dtype: int64"
            ]
          },
          "metadata": {},
          "execution_count": 4
        }
      ]
    },
    {
      "cell_type": "code",
      "source": [
        "df.drop(df.loc[df['masking_level']==-1].index, inplace=True)\n",
        "attr = df['attrition_percentage']\n",
        "df = df.drop(['attrition_percentage' , 'nct_id'] , axis=1)\n",
        "df = df.drop(['gender'] , axis= 1)\n",
        "attr_cat_o = df['attr_cat'] \n",
        "df = df.drop(['attr_cat'] , axis=1)"
      ],
      "metadata": {
        "id": "YTp6K_hcIzM4"
      },
      "execution_count": 5,
      "outputs": []
    },
    {
      "cell_type": "code",
      "source": [
        "df.head()"
      ],
      "metadata": {
        "colab": {
          "base_uri": "https://localhost:8080/",
          "height": 206
        },
        "id": "x_SbI9MVI4wg",
        "outputId": "047ff4c4-8a38-4d69-a19c-1bd27548fe1b"
      },
      "execution_count": 6,
      "outputs": [
        {
          "output_type": "execute_result",
          "data": {
            "text/plain": [
              "     phase  allocation   intervention_model primary_purpose intervention_type  \\\n",
              "0  Phase 2  Randomized  Parallel Assignment       Treatment              Drug   \n",
              "1  Phase 2  Randomized  Parallel Assignment       Treatment              Drug   \n",
              "2  Phase 3  Randomized  Parallel Assignment       Treatment              Drug   \n",
              "3  Phase 3  Randomized  Parallel Assignment       Treatment              Drug   \n",
              "4  Phase 3  Randomized  Parallel Assignment       Screening            Device   \n",
              "\n",
              "       arm_group_type                healthy_vols  location_count min_age_cat  \\\n",
              "0   Active Comparator                          No               1        teen   \n",
              "1  Placebo Comparator                          No               1       child   \n",
              "2        Experimental                          No               1        teen   \n",
              "3   Active Comparator                          No             408        teen   \n",
              "4        Experimental  Accepts Healthy Volunteers              33       adult   \n",
              "\n",
              "  max_age_cat pt_mask  masking_level  date_diff_num  \n",
              "0  late adult     Yes              4           3895  \n",
              "1        teen     Yes              4           4901  \n",
              "2  late adult     Yes              2           3318  \n",
              "3  late adult      No              0           2587  \n",
              "4       adult      No              0           2983  "
            ],
            "text/html": [
              "\n",
              "  <div id=\"df-9dc7f848-f524-4940-b4ba-95507cc3d023\">\n",
              "    <div class=\"colab-df-container\">\n",
              "      <div>\n",
              "<style scoped>\n",
              "    .dataframe tbody tr th:only-of-type {\n",
              "        vertical-align: middle;\n",
              "    }\n",
              "\n",
              "    .dataframe tbody tr th {\n",
              "        vertical-align: top;\n",
              "    }\n",
              "\n",
              "    .dataframe thead th {\n",
              "        text-align: right;\n",
              "    }\n",
              "</style>\n",
              "<table border=\"1\" class=\"dataframe\">\n",
              "  <thead>\n",
              "    <tr style=\"text-align: right;\">\n",
              "      <th></th>\n",
              "      <th>phase</th>\n",
              "      <th>allocation</th>\n",
              "      <th>intervention_model</th>\n",
              "      <th>primary_purpose</th>\n",
              "      <th>intervention_type</th>\n",
              "      <th>arm_group_type</th>\n",
              "      <th>healthy_vols</th>\n",
              "      <th>location_count</th>\n",
              "      <th>min_age_cat</th>\n",
              "      <th>max_age_cat</th>\n",
              "      <th>pt_mask</th>\n",
              "      <th>masking_level</th>\n",
              "      <th>date_diff_num</th>\n",
              "    </tr>\n",
              "  </thead>\n",
              "  <tbody>\n",
              "    <tr>\n",
              "      <th>0</th>\n",
              "      <td>Phase 2</td>\n",
              "      <td>Randomized</td>\n",
              "      <td>Parallel Assignment</td>\n",
              "      <td>Treatment</td>\n",
              "      <td>Drug</td>\n",
              "      <td>Active Comparator</td>\n",
              "      <td>No</td>\n",
              "      <td>1</td>\n",
              "      <td>teen</td>\n",
              "      <td>late adult</td>\n",
              "      <td>Yes</td>\n",
              "      <td>4</td>\n",
              "      <td>3895</td>\n",
              "    </tr>\n",
              "    <tr>\n",
              "      <th>1</th>\n",
              "      <td>Phase 2</td>\n",
              "      <td>Randomized</td>\n",
              "      <td>Parallel Assignment</td>\n",
              "      <td>Treatment</td>\n",
              "      <td>Drug</td>\n",
              "      <td>Placebo Comparator</td>\n",
              "      <td>No</td>\n",
              "      <td>1</td>\n",
              "      <td>child</td>\n",
              "      <td>teen</td>\n",
              "      <td>Yes</td>\n",
              "      <td>4</td>\n",
              "      <td>4901</td>\n",
              "    </tr>\n",
              "    <tr>\n",
              "      <th>2</th>\n",
              "      <td>Phase 3</td>\n",
              "      <td>Randomized</td>\n",
              "      <td>Parallel Assignment</td>\n",
              "      <td>Treatment</td>\n",
              "      <td>Drug</td>\n",
              "      <td>Experimental</td>\n",
              "      <td>No</td>\n",
              "      <td>1</td>\n",
              "      <td>teen</td>\n",
              "      <td>late adult</td>\n",
              "      <td>Yes</td>\n",
              "      <td>2</td>\n",
              "      <td>3318</td>\n",
              "    </tr>\n",
              "    <tr>\n",
              "      <th>3</th>\n",
              "      <td>Phase 3</td>\n",
              "      <td>Randomized</td>\n",
              "      <td>Parallel Assignment</td>\n",
              "      <td>Treatment</td>\n",
              "      <td>Drug</td>\n",
              "      <td>Active Comparator</td>\n",
              "      <td>No</td>\n",
              "      <td>408</td>\n",
              "      <td>teen</td>\n",
              "      <td>late adult</td>\n",
              "      <td>No</td>\n",
              "      <td>0</td>\n",
              "      <td>2587</td>\n",
              "    </tr>\n",
              "    <tr>\n",
              "      <th>4</th>\n",
              "      <td>Phase 3</td>\n",
              "      <td>Randomized</td>\n",
              "      <td>Parallel Assignment</td>\n",
              "      <td>Screening</td>\n",
              "      <td>Device</td>\n",
              "      <td>Experimental</td>\n",
              "      <td>Accepts Healthy Volunteers</td>\n",
              "      <td>33</td>\n",
              "      <td>adult</td>\n",
              "      <td>adult</td>\n",
              "      <td>No</td>\n",
              "      <td>0</td>\n",
              "      <td>2983</td>\n",
              "    </tr>\n",
              "  </tbody>\n",
              "</table>\n",
              "</div>\n",
              "      <button class=\"colab-df-convert\" onclick=\"convertToInteractive('df-9dc7f848-f524-4940-b4ba-95507cc3d023')\"\n",
              "              title=\"Convert this dataframe to an interactive table.\"\n",
              "              style=\"display:none;\">\n",
              "        \n",
              "  <svg xmlns=\"http://www.w3.org/2000/svg\" height=\"24px\"viewBox=\"0 0 24 24\"\n",
              "       width=\"24px\">\n",
              "    <path d=\"M0 0h24v24H0V0z\" fill=\"none\"/>\n",
              "    <path d=\"M18.56 5.44l.94 2.06.94-2.06 2.06-.94-2.06-.94-.94-2.06-.94 2.06-2.06.94zm-11 1L8.5 8.5l.94-2.06 2.06-.94-2.06-.94L8.5 2.5l-.94 2.06-2.06.94zm10 10l.94 2.06.94-2.06 2.06-.94-2.06-.94-.94-2.06-.94 2.06-2.06.94z\"/><path d=\"M17.41 7.96l-1.37-1.37c-.4-.4-.92-.59-1.43-.59-.52 0-1.04.2-1.43.59L10.3 9.45l-7.72 7.72c-.78.78-.78 2.05 0 2.83L4 21.41c.39.39.9.59 1.41.59.51 0 1.02-.2 1.41-.59l7.78-7.78 2.81-2.81c.8-.78.8-2.07 0-2.86zM5.41 20L4 18.59l7.72-7.72 1.47 1.35L5.41 20z\"/>\n",
              "  </svg>\n",
              "      </button>\n",
              "      \n",
              "  <style>\n",
              "    .colab-df-container {\n",
              "      display:flex;\n",
              "      flex-wrap:wrap;\n",
              "      gap: 12px;\n",
              "    }\n",
              "\n",
              "    .colab-df-convert {\n",
              "      background-color: #E8F0FE;\n",
              "      border: none;\n",
              "      border-radius: 50%;\n",
              "      cursor: pointer;\n",
              "      display: none;\n",
              "      fill: #1967D2;\n",
              "      height: 32px;\n",
              "      padding: 0 0 0 0;\n",
              "      width: 32px;\n",
              "    }\n",
              "\n",
              "    .colab-df-convert:hover {\n",
              "      background-color: #E2EBFA;\n",
              "      box-shadow: 0px 1px 2px rgba(60, 64, 67, 0.3), 0px 1px 3px 1px rgba(60, 64, 67, 0.15);\n",
              "      fill: #174EA6;\n",
              "    }\n",
              "\n",
              "    [theme=dark] .colab-df-convert {\n",
              "      background-color: #3B4455;\n",
              "      fill: #D2E3FC;\n",
              "    }\n",
              "\n",
              "    [theme=dark] .colab-df-convert:hover {\n",
              "      background-color: #434B5C;\n",
              "      box-shadow: 0px 1px 3px 1px rgba(0, 0, 0, 0.15);\n",
              "      filter: drop-shadow(0px 1px 2px rgba(0, 0, 0, 0.3));\n",
              "      fill: #FFFFFF;\n",
              "    }\n",
              "  </style>\n",
              "\n",
              "      <script>\n",
              "        const buttonEl =\n",
              "          document.querySelector('#df-9dc7f848-f524-4940-b4ba-95507cc3d023 button.colab-df-convert');\n",
              "        buttonEl.style.display =\n",
              "          google.colab.kernel.accessAllowed ? 'block' : 'none';\n",
              "\n",
              "        async function convertToInteractive(key) {\n",
              "          const element = document.querySelector('#df-9dc7f848-f524-4940-b4ba-95507cc3d023');\n",
              "          const dataTable =\n",
              "            await google.colab.kernel.invokeFunction('convertToInteractive',\n",
              "                                                     [key], {});\n",
              "          if (!dataTable) return;\n",
              "\n",
              "          const docLinkHtml = 'Like what you see? Visit the ' +\n",
              "            '<a target=\"_blank\" href=https://colab.research.google.com/notebooks/data_table.ipynb>data table notebook</a>'\n",
              "            + ' to learn more about interactive tables.';\n",
              "          element.innerHTML = '';\n",
              "          dataTable['output_type'] = 'display_data';\n",
              "          await google.colab.output.renderOutput(dataTable, element);\n",
              "          const docLink = document.createElement('div');\n",
              "          docLink.innerHTML = docLinkHtml;\n",
              "          element.appendChild(docLink);\n",
              "        }\n",
              "      </script>\n",
              "    </div>\n",
              "  </div>\n",
              "  "
            ]
          },
          "metadata": {},
          "execution_count": 6
        }
      ]
    },
    {
      "cell_type": "code",
      "source": [
        "df_temp = df"
      ],
      "metadata": {
        "id": "w8274nTrKklo"
      },
      "execution_count": 7,
      "outputs": []
    },
    {
      "cell_type": "code",
      "source": [
        "len(attr_cat_o)"
      ],
      "metadata": {
        "colab": {
          "base_uri": "https://localhost:8080/"
        },
        "id": "DvZJyycyMQHE",
        "outputId": "e4397dd5-6299-40d9-ce16-ca1de002f52d"
      },
      "execution_count": 8,
      "outputs": [
        {
          "output_type": "execute_result",
          "data": {
            "text/plain": [
              "965"
            ]
          },
          "metadata": {},
          "execution_count": 8
        }
      ]
    },
    {
      "cell_type": "code",
      "source": [
        "X_train, X_test, Y_train, Y_test = train_test_split(df_temp, attr_cat_o, test_size = 0.2, random_state = 42)\n",
        "\n",
        "print(\"X_train shape: \", X_train.shape)\n",
        "print(\"Y_train shape: \", Y_train.shape)\n",
        "print(\"X_test shape: \", X_test.shape)\n",
        "print(\"Y_test shape: \", Y_test.shape)"
      ],
      "metadata": {
        "colab": {
          "base_uri": "https://localhost:8080/"
        },
        "id": "-ISVW5m6KgIp",
        "outputId": "072a600d-9a3d-4707-ebdc-0809f156a161"
      },
      "execution_count": 9,
      "outputs": [
        {
          "output_type": "stream",
          "name": "stdout",
          "text": [
            "X_train shape:  (772, 13)\n",
            "Y_train shape:  (772,)\n",
            "X_test shape:  (193, 13)\n",
            "Y_test shape:  (193,)\n"
          ]
        }
      ]
    },
    {
      "cell_type": "code",
      "source": [
        "numerical_features = ['date_diff_num' , 'location_count']\n",
        "categorical_features = [ 'allocation','intervention_model' , 'primary_purpose' , 'intervention_type' , 'arm_group_type'  , 'healthy_vols' , 'pt_mask']\n",
        "age_cat = ['infant' , 'child' , 'teen' , 'adult' , 'late adult' ]\n",
        "phase_cat = ['Phase 1.5','Phase 2' , 'Phase 2.5' , 'Phase 3' , 'Phase 4']\n",
        "masking_level = [0,1,2,3,4]\n"
      ],
      "metadata": {
        "id": "Njm81SgiKuzG"
      },
      "execution_count": 10,
      "outputs": []
    },
    {
      "cell_type": "code",
      "source": [
        "numeric_transformer = Pipeline(\n",
        "    steps=[(\"scaler\", StandardScaler())]\n",
        ")\n",
        "\n",
        "categorical_transformer = Pipeline(\n",
        "    steps=[ (\"onehot\", OneHotEncoder(handle_unknown=\"error\" ,drop=\"if_binary\"))]\n",
        ")\n",
        "\n",
        "ordinal_age_transformer = Pipeline(\n",
        "    steps=[(\"ordinal_age\", OrdinalEncoder(categories = [age_cat] , handle_unknown='error' )  )]\n",
        ")\n",
        "\n",
        "\n",
        "ordinal_phase_transformer = Pipeline(\n",
        "    steps=[(\"ordinal_phase\", OrdinalEncoder(categories = [phase_cat] , handle_unknown='error' )  )]\n",
        ")\n",
        "\n",
        "ordinal_masking_transformer = Pipeline(\n",
        "    steps=[(\"ordinal_mask\", OrdinalEncoder(categories = [masking_level] , handle_unknown='error' )  )]\n",
        ")\n",
        "\n"
      ],
      "metadata": {
        "id": "PnHbS_soKwze"
      },
      "execution_count": 11,
      "outputs": []
    },
    {
      "cell_type": "code",
      "source": [
        "col_transformer = ColumnTransformer(\n",
        "    transformers=[\n",
        "        (\"numeric\", numeric_transformer, numerical_features),\n",
        "        (\"categorical\", categorical_transformer, categorical_features),\n",
        "        (\"oe_min_age\" , ordinal_age_transformer , ['min_age_cat' ]),\n",
        "        (\"oe_max_age\" , ordinal_age_transformer , ['max_age_cat']),\n",
        "        (\"oe_phase\" , ordinal_phase_transformer , ['phase']),\n",
        "        (\"oe_masking\" , ordinal_masking_transformer, ['masking_level'])\n",
        "    ],\n",
        "    remainder='passthrough'\n",
        ")"
      ],
      "metadata": {
        "id": "bXYNi6beK0oO"
      },
      "execution_count": 12,
      "outputs": []
    },
    {
      "cell_type": "code",
      "source": [
        "columns = ['date_diff_num',\n",
        " 'location_count',\n",
        " 'allocation_Randomized',\n",
        " 'intervention_model_Crossover Assignment',\n",
        " 'intervention_model_Factorial Assignment',\n",
        " 'intervention_model_Parallel Assignment',\n",
        " 'intervention_model_Single Group Assignment',\n",
        " 'primary_purpose_Basic Science',\n",
        " 'primary_purpose_Diagnostic',\n",
        " 'primary_purpose_Health Services Research',\n",
        " 'primary_purpose_Other',\n",
        " 'primary_purpose_Prevention',\n",
        " 'primary_purpose_Screening',\n",
        " 'primary_purpose_Supportive Care',\n",
        " 'primary_purpose_Treatment',\n",
        " 'intervention_type_Biological',\n",
        " 'intervention_type_Device',\n",
        " 'intervention_type_Dietary Supplement',\n",
        " 'intervention_type_Drug',\n",
        " 'intervention_type_Other',\n",
        " 'intervention_type_Radiation',\n",
        " 'arm_group_type_Active Comparator',\n",
        " 'arm_group_type_Experimental',\n",
        " 'arm_group_type_Other',\n",
        " 'arm_group_type_Placebo Comparator',\n",
        " 'healthy_vols_No',\n",
        " 'pt_mask_Yes',\n",
        " 'min_age_cat',\n",
        " 'max_age_cat',\n",
        " 'phase',\n",
        " 'masking_level']"
      ],
      "metadata": {
        "id": "NBf6-WJqK5O0"
      },
      "execution_count": 13,
      "outputs": []
    },
    {
      "cell_type": "code",
      "source": [
        "dt_pipe = Pipeline(\n",
        "    steps =[\n",
        "        (\"preprocessing\" , col_transformer),\n",
        "        ('classifier' ,DecisionTreeClassifier() )\n",
        "    ]\n",
        ")"
      ],
      "metadata": {
        "id": "xDJQh3-ILBjB"
      },
      "execution_count": 14,
      "outputs": []
    },
    {
      "cell_type": "code",
      "source": [
        "dt_pipe.fit(X_train, Y_train)\n",
        "dt_predictions = dt_pipe.predict(X_test)\n",
        "\n",
        "print(\"First 5 DT predictions: \", list(dt_predictions[:5]))\n",
        "print(accuracy_score(Y_test,dt_predictions))\n",
        "print(f1_score(Y_test, dt_predictions , average=\"weighted\"))\n",
        "cnf_matrix_dt = metrics.confusion_matrix(Y_test, dt_predictions )\n"
      ],
      "metadata": {
        "colab": {
          "base_uri": "https://localhost:8080/"
        },
        "id": "4pNiTOYFLSB_",
        "outputId": "853f40e1-ed99-4e7b-8c99-b189fb545355"
      },
      "execution_count": 15,
      "outputs": [
        {
          "output_type": "stream",
          "name": "stdout",
          "text": [
            "First 5 DT predictions:  [1, 0, 2, 0, 1]\n",
            "0.45595854922279794\n",
            "0.4653081601256641\n"
          ]
        }
      ]
    },
    {
      "cell_type": "code",
      "source": [
        "target_names = ['low', 'medium' , 'high']\n",
        "print(classification_report(Y_test, dt_predictions, target_names=target_names))"
      ],
      "metadata": {
        "colab": {
          "base_uri": "https://localhost:8080/"
        },
        "id": "Uyv9sp6WPSpn",
        "outputId": "9ecadb00-dee0-4750-d06e-10f3d0abb200"
      },
      "execution_count": 16,
      "outputs": [
        {
          "output_type": "stream",
          "name": "stdout",
          "text": [
            "              precision    recall  f1-score   support\n",
            "\n",
            "         low       0.62      0.57      0.60       126\n",
            "      medium       0.24      0.28      0.26        57\n",
            "        high       0.00      0.00      0.00        10\n",
            "\n",
            "    accuracy                           0.46       193\n",
            "   macro avg       0.29      0.28      0.29       193\n",
            "weighted avg       0.48      0.46      0.47       193\n",
            "\n"
          ]
        }
      ]
    },
    {
      "cell_type": "code",
      "source": [
        "class_names=['low' , 'medium' , 'high'] # name  of classes\n",
        "fig, ax = plt.subplots()\n",
        "tick_marks = np.arange(len(class_names))\n",
        "plt.xticks(tick_marks, class_names)\n",
        "plt.yticks(tick_marks, class_names)\n",
        "# create heatmap\n",
        "sns.heatmap(pd.DataFrame(cnf_matrix_dt), annot=True, cmap=\"YlGnBu\" ,fmt='g')\n",
        "ax.xaxis.set_label_position(\"top\")\n",
        "plt.tight_layout()\n",
        "plt.title('Confusion matrix', y=1.1)\n",
        "plt.ylabel('Actual label')\n",
        "plt.xlabel('Predicted label')\n",
        "\n"
      ],
      "metadata": {
        "colab": {
          "base_uri": "https://localhost:8080/",
          "height": 342
        },
        "id": "C6fm74hgPu5Q",
        "outputId": "194a14ed-9cd8-4956-d69b-b9f7427e8a24"
      },
      "execution_count": 17,
      "outputs": [
        {
          "output_type": "execute_result",
          "data": {
            "text/plain": [
              "Text(0.5, 257.44, 'Predicted label')"
            ]
          },
          "metadata": {},
          "execution_count": 17
        },
        {
          "output_type": "display_data",
          "data": {
            "text/plain": [
              "<Figure size 432x288 with 2 Axes>"
            ],
            "image/png": "[encoded data removed]"
          },
          "metadata": {
            "needs_background": "light"
          }
        }
      ]
    },
    {
      "cell_type": "code",
      "source": [
        "set_config(display='diagram')\n",
        "dt_pipe"
      ],
      "metadata": {
        "colab": {
          "base_uri": "https://localhost:8080/",
          "height": 194
        },
        "id": "DAK8cnLCakuU",
        "outputId": "c36ab971-fb25-43b0-cf50-6192c5911920"
      },
      "execution_count": 18,
      "outputs": [
        {
          "output_type": "execute_result",
          "data": {
            "text/plain": [
              "Pipeline(steps=[('preprocessing',\n",
              "                 ColumnTransformer(remainder='passthrough',\n",
              "                                   transformers=[('numeric',\n",
              "                                                  Pipeline(steps=[('scaler',\n",
              "                                                                   StandardScaler())]),\n",
              "                                                  ['date_diff_num',\n",
              "                                                   'location_count']),\n",
              "                                                 ('categorical',\n",
              "                                                  Pipeline(steps=[('onehot',\n",
              "                                                                   OneHotEncoder(drop='if_binary'))]),\n",
              "                                                  ['allocation',\n",
              "                                                   'intervention_model',\n",
              "                                                   'primary_purpose',\n",
              "                                                   'intervention_type',\n",
              "                                                   'arm_group_type',\n",
              "                                                   'h...\n",
              "                                                                                               'teen',\n",
              "                                                                                               'adult',\n",
              "                                                                                               'late '\n",
              "                                                                                               'adult']]))]),\n",
              "                                                  ['max_age_cat']),\n",
              "                                                 ('oe_phase',\n",
              "                                                  Pipeline(steps=[('ordinal_phase',\n",
              "                                                                   OrdinalEncoder(categories=[['Phase '\n",
              "                                                                                               '1.5',\n",
              "                                                                                               'Phase '\n",
              "                                                                                               '2',\n",
              "                                                                                               'Phase '\n",
              "                                                                                               '2.5',\n",
              "                                                                                               'Phase '\n",
              "                                                                                               '3',\n",
              "                                                                                               'Phase '\n",
              "                                                                                               '4']]))]),\n",
              "                                                  ['phase']),\n",
              "                                                 ('oe_masking',\n",
              "                                                  Pipeline(steps=[('ordinal_mask',\n",
              "                                                                   OrdinalEncoder(categories=[[0,\n",
              "                                                                                               1,\n",
              "                                                                                               2,\n",
              "                                                                                               3,\n",
              "                                                                                               4]]))]),\n",
              "                                                  ['masking_level'])])),\n",
              "                ('classifier', DecisionTreeClassifier())])"
            ],
            "text/html": [
              "<style>#sk-66d2d99b-5ea0-4925-a8e2-a4d4d7b056ba {color: black;background-color: white;}#sk-66d2d99b-5ea0-4925-a8e2-a4d4d7b056ba pre{padding: 0;}#sk-66d2d99b-5ea0-4925-a8e2-a4d4d7b056ba div.sk-toggleable {background-color: white;}#sk-66d2d99b-5ea0-4925-a8e2-a4d4d7b056ba label.sk-toggleable__label {cursor: pointer;display: block;width: 100%;margin-bottom: 0;padding: 0.3em;box-sizing: border-box;text-align: center;}#sk-66d2d99b-5ea0-4925-a8e2-a4d4d7b056ba label.sk-toggleable__label-arrow:before {content: \"▸\";float: left;margin-right: 0.25em;color: #696969;}#sk-66d2d99b-5ea0-4925-a8e2-a4d4d7b056ba label.sk-toggleable__label-arrow:hover:before {color: black;}#sk-66d2d99b-5ea0-4925-a8e2-a4d4d7b056ba div.sk-estimator:hover label.sk-toggleable__label-arrow:before {color: black;}#sk-66d2d99b-5ea0-4925-a8e2-a4d4d7b056ba div.sk-toggleable__content {max-height: 0;max-width: 0;overflow: hidden;text-align: left;background-color: #f0f8ff;}#sk-66d2d99b-5ea0-4925-a8e2-a4d4d7b056ba div.sk-toggleable__content pre {margin: 0.2em;color: black;border-radius: 0.25em;background-color: #f0f8ff;}#sk-66d2d99b-5ea0-4925-a8e2-a4d4d7b056ba input.sk-toggleable__control:checked~div.sk-toggleable__content {max-height: 200px;max-width: 100%;overflow: auto;}#sk-66d2d99b-5ea0-4925-a8e2-a4d4d7b056ba input.sk-toggleable__control:checked~label.sk-toggleable__label-arrow:before {content: \"▾\";}#sk-66d2d99b-5ea0-4925-a8e2-a4d4d7b056ba div.sk-estimator input.sk-toggleable__control:checked~label.sk-toggleable__label {background-color: #d4ebff;}#sk-66d2d99b-5ea0-4925-a8e2-a4d4d7b056ba div.sk-label input.sk-toggleable__control:checked~label.sk-toggleable__label {background-color: #d4ebff;}#sk-66d2d99b-5ea0-4925-a8e2-a4d4d7b056ba input.sk-hidden--visually {border: 0;clip: rect(1px 1px 1px 1px);clip: rect(1px, 1px, 1px, 1px);height: 1px;margin: -1px;overflow: hidden;padding: 0;position: absolute;width: 1px;}#sk-66d2d99b-5ea0-4925-a8e2-a4d4d7b056ba div.sk-estimator {font-family: monospace;background-color: #f0f8ff;border: 1px dotted black;border-radius: 0.25em;box-sizing: border-box;margin-bottom: 0.5em;}#sk-66d2d99b-5ea0-4925-a8e2-a4d4d7b056ba div.sk-estimator:hover {background-color: #d4ebff;}#sk-66d2d99b-5ea0-4925-a8e2-a4d4d7b056ba div.sk-parallel-item::after {content: \"\";width: 100%;border-bottom: 1px solid gray;flex-grow: 1;}#sk-66d2d99b-5ea0-4925-a8e2-a4d4d7b056ba div.sk-label:hover label.sk-toggleable__label {background-color: #d4ebff;}#sk-66d2d99b-5ea0-4925-a8e2-a4d4d7b056ba div.sk-serial::before {content: \"\";position: absolute;border-left: 1px solid gray;box-sizing: border-box;top: 2em;bottom: 0;left: 50%;}#sk-66d2d99b-5ea0-4925-a8e2-a4d4d7b056ba div.sk-serial {display: flex;flex-direction: column;align-items: center;background-color: white;padding-right: 0.2em;padding-left: 0.2em;}#sk-66d2d99b-5ea0-4925-a8e2-a4d4d7b056ba div.sk-item {z-index: 1;}#sk-66d2d99b-5ea0-4925-a8e2-a4d4d7b056ba div.sk-parallel {display: flex;align-items: stretch;justify-content: center;background-color: white;}#sk-66d2d99b-5ea0-4925-a8e2-a4d4d7b056ba div.sk-parallel::before {content: \"\";position: absolute;border-left: 1px solid gray;box-sizing: border-box;top: 2em;bottom: 0;left: 50%;}#sk-66d2d99b-5ea0-4925-a8e2-a4d4d7b056ba div.sk-parallel-item {display: flex;flex-direction: column;position: relative;background-color: white;}#sk-66d2d99b-5ea0-4925-a8e2-a4d4d7b056ba div.sk-parallel-item:first-child::after {align-self: flex-end;width: 50%;}#sk-66d2d99b-5ea0-4925-a8e2-a4d4d7b056ba div.sk-parallel-item:last-child::after {align-self: flex-start;width: 50%;}#sk-66d2d99b-5ea0-4925-a8e2-a4d4d7b056ba div.sk-parallel-item:only-child::after {width: 0;}#sk-66d2d99b-5ea0-4925-a8e2-a4d4d7b056ba div.sk-dashed-wrapped {border: 1px dashed gray;margin: 0 0.4em 0.5em 0.4em;box-sizing: border-box;padding-bottom: 0.4em;background-color: white;position: relative;}#sk-66d2d99b-5ea0-4925-a8e2-a4d4d7b056ba div.sk-label label {font-family: monospace;font-weight: bold;background-color: white;display: inline-block;line-height: 1.2em;}#sk-66d2d99b-5ea0-4925-a8e2-a4d4d7b056ba div.sk-label-container {position: relative;z-index: 2;text-align: center;}#sk-66d2d99b-5ea0-4925-a8e2-a4d4d7b056ba div.sk-container {/* jupyter's `normalize.less` sets `[hidden] { display: none; }` but bootstrap.min.css set `[hidden] { display: none !important; }` so we also need the `!important` here to be able to override the default hidden behavior on the sphinx rendered scikit-learn.org. See: https://github.com/scikit-learn/scikit-learn/issues/21755 */display: inline-block !important;position: relative;}#sk-66d2d99b-5ea0-4925-a8e2-a4d4d7b056ba div.sk-text-repr-fallback {display: none;}</style><div id=\"sk-66d2d99b-5ea0-4925-a8e2-a4d4d7b056ba\" class=\"sk-top-container\"><div class=\"sk-text-repr-fallback\"><pre>Pipeline(steps=[(&#x27;preprocessing&#x27;,\n",
              "                 ColumnTransformer(remainder=&#x27;passthrough&#x27;,\n",
              "                                   transformers=[(&#x27;numeric&#x27;,\n",
              "                                                  Pipeline(steps=[(&#x27;scaler&#x27;,\n",
              "                                                                   StandardScaler())]),\n",
              "                                                  [&#x27;date_diff_num&#x27;,\n",
              "                                                   &#x27;location_count&#x27;]),\n",
              "                                                 (&#x27;categorical&#x27;,\n",
              "                                                  Pipeline(steps=[(&#x27;onehot&#x27;,\n",
              "                                                                   OneHotEncoder(drop=&#x27;if_binary&#x27;))]),\n",
              "                                                  [&#x27;allocation&#x27;,\n",
              "                                                   &#x27;intervention_model&#x27;,\n",
              "                                                   &#x27;primary_purpose&#x27;,\n",
              "                                                   &#x27;intervention_type&#x27;,\n",
              "                                                   &#x27;arm_group_type&#x27;,\n",
              "                                                   &#x27;h...\n",
              "                                                                                               &#x27;teen&#x27;,\n",
              "                                                                                               &#x27;adult&#x27;,\n",
              "                                                                                               &#x27;late &#x27;\n",
              "                                                                                               &#x27;adult&#x27;]]))]),\n",
              "                                                  [&#x27;max_age_cat&#x27;]),\n",
              "                                                 (&#x27;oe_phase&#x27;,\n",
              "                                                  Pipeline(steps=[(&#x27;ordinal_phase&#x27;,\n",
              "                                                                   OrdinalEncoder(categories=[[&#x27;Phase &#x27;\n",
              "                                                                                               &#x27;1.5&#x27;,\n",
              "                                                                                               &#x27;Phase &#x27;\n",
              "                                                                                               &#x27;2&#x27;,\n",
              "                                                                                               &#x27;Phase &#x27;\n",
              "                                                                                               &#x27;2.5&#x27;,\n",
              "                                                                                               &#x27;Phase &#x27;\n",
              "                                                                                               &#x27;3&#x27;,\n",
              "                                                                                               &#x27;Phase &#x27;\n",
              "                                                                                               &#x27;4&#x27;]]))]),\n",
              "                                                  [&#x27;phase&#x27;]),\n",
              "                                                 (&#x27;oe_masking&#x27;,\n",
              "                                                  Pipeline(steps=[(&#x27;ordinal_mask&#x27;,\n",
              "                                                                   OrdinalEncoder(categories=[[0,\n",
              "                                                                                               1,\n",
              "                                                                                               2,\n",
              "                                                                                               3,\n",
              "                                                                                               4]]))]),\n",
              "                                                  [&#x27;masking_level&#x27;])])),\n",
              "                (&#x27;classifier&#x27;, DecisionTreeClassifier())])</pre><b>Please rerun this cell to show the HTML repr or trust the notebook.</b></div><div class=\"sk-container\" hidden><div class=\"sk-item sk-dashed-wrapped\"><div class=\"sk-label-container\"><div class=\"sk-label sk-toggleable\"><input class=\"sk-toggleable__control sk-hidden--visually\" id=\"a279408d-7a60-4702-a781-da48b1055835\" type=\"checkbox\" ><label for=\"a279408d-7a60-4702-a781-da48b1055835\" class=\"sk-toggleable__label sk-toggleable__label-arrow\">Pipeline</label><div class=\"sk-toggleable__content\"><pre>Pipeline(steps=[(&#x27;preprocessing&#x27;,\n",
              "                 ColumnTransformer(remainder=&#x27;passthrough&#x27;,\n",
              "                                   transformers=[(&#x27;numeric&#x27;,\n",
              "                                                  Pipeline(steps=[(&#x27;scaler&#x27;,\n",
              "                                                                   StandardScaler())]),\n",
              "                                                  [&#x27;date_diff_num&#x27;,\n",
              "                                                   &#x27;location_count&#x27;]),\n",
              "                                                 (&#x27;categorical&#x27;,\n",
              "                                                  Pipeline(steps=[(&#x27;onehot&#x27;,\n",
              "                                                                   OneHotEncoder(drop=&#x27;if_binary&#x27;))]),\n",
              "                                                  [&#x27;allocation&#x27;,\n",
              "                                                   &#x27;intervention_model&#x27;,\n",
              "                                                   &#x27;primary_purpose&#x27;,\n",
              "                                                   &#x27;intervention_type&#x27;,\n",
              "                                                   &#x27;arm_group_type&#x27;,\n",
              "                                                   &#x27;h...\n",
              "                                                                                               &#x27;teen&#x27;,\n",
              "                                                                                               &#x27;adult&#x27;,\n",
              "                                                                                               &#x27;late &#x27;\n",
              "                                                                                               &#x27;adult&#x27;]]))]),\n",
              "                                                  [&#x27;max_age_cat&#x27;]),\n",
              "                                                 (&#x27;oe_phase&#x27;,\n",
              "                                                  Pipeline(steps=[(&#x27;ordinal_phase&#x27;,\n",
              "                                                                   OrdinalEncoder(categories=[[&#x27;Phase &#x27;\n",
              "                                                                                               &#x27;1.5&#x27;,\n",
              "                                                                                               &#x27;Phase &#x27;\n",
              "                                                                                               &#x27;2&#x27;,\n",
              "                                                                                               &#x27;Phase &#x27;\n",
              "                                                                                               &#x27;2.5&#x27;,\n",
              "                                                                                               &#x27;Phase &#x27;\n",
              "                                                                                               &#x27;3&#x27;,\n",
              "                                                                                               &#x27;Phase &#x27;\n",
              "                                                                                               &#x27;4&#x27;]]))]),\n",
              "                                                  [&#x27;phase&#x27;]),\n",
              "                                                 (&#x27;oe_masking&#x27;,\n",
              "                                                  Pipeline(steps=[(&#x27;ordinal_mask&#x27;,\n",
              "                                                                   OrdinalEncoder(categories=[[0,\n",
              "                                                                                               1,\n",
              "                                                                                               2,\n",
              "                                                                                               3,\n",
              "                                                                                               4]]))]),\n",
              "                                                  [&#x27;masking_level&#x27;])])),\n",
              "                (&#x27;classifier&#x27;, DecisionTreeClassifier())])</pre></div></div></div><div class=\"sk-serial\"><div class=\"sk-item sk-dashed-wrapped\"><div class=\"sk-label-container\"><div class=\"sk-label sk-toggleable\"><input class=\"sk-toggleable__control sk-hidden--visually\" id=\"42a8c506-00d2-4541-beaa-4cdd46140601\" type=\"checkbox\" ><label for=\"42a8c506-00d2-4541-beaa-4cdd46140601\" class=\"sk-toggleable__label sk-toggleable__label-arrow\">preprocessing: ColumnTransformer</label><div class=\"sk-toggleable__content\"><pre>ColumnTransformer(remainder=&#x27;passthrough&#x27;,\n",
              "                  transformers=[(&#x27;numeric&#x27;,\n",
              "                                 Pipeline(steps=[(&#x27;scaler&#x27;, StandardScaler())]),\n",
              "                                 [&#x27;date_diff_num&#x27;, &#x27;location_count&#x27;]),\n",
              "                                (&#x27;categorical&#x27;,\n",
              "                                 Pipeline(steps=[(&#x27;onehot&#x27;,\n",
              "                                                  OneHotEncoder(drop=&#x27;if_binary&#x27;))]),\n",
              "                                 [&#x27;allocation&#x27;, &#x27;intervention_model&#x27;,\n",
              "                                  &#x27;primary_purpose&#x27;, &#x27;intervention_type&#x27;,\n",
              "                                  &#x27;arm_group_type&#x27;, &#x27;healthy_vols&#x27;,\n",
              "                                  &#x27;pt_mask&#x27;]),\n",
              "                                (&#x27;oe_min...\n",
              "                                                  OrdinalEncoder(categories=[[&#x27;infant&#x27;,\n",
              "                                                                              &#x27;child&#x27;,\n",
              "                                                                              &#x27;teen&#x27;,\n",
              "                                                                              &#x27;adult&#x27;,\n",
              "                                                                              &#x27;late &#x27;\n",
              "                                                                              &#x27;adult&#x27;]]))]),\n",
              "                                 [&#x27;max_age_cat&#x27;]),\n",
              "                                (&#x27;oe_phase&#x27;,\n",
              "                                 Pipeline(steps=[(&#x27;ordinal_phase&#x27;,\n",
              "                                                  OrdinalEncoder(categories=[[&#x27;Phase &#x27;\n",
              "                                                                              &#x27;1.5&#x27;,\n",
              "                                                                              &#x27;Phase &#x27;\n",
              "                                                                              &#x27;2&#x27;,\n",
              "                                                                              &#x27;Phase &#x27;\n",
              "                                                                              &#x27;2.5&#x27;,\n",
              "                                                                              &#x27;Phase &#x27;\n",
              "                                                                              &#x27;3&#x27;,\n",
              "                                                                              &#x27;Phase &#x27;\n",
              "                                                                              &#x27;4&#x27;]]))]),\n",
              "                                 [&#x27;phase&#x27;]),\n",
              "                                (&#x27;oe_masking&#x27;,\n",
              "                                 Pipeline(steps=[(&#x27;ordinal_mask&#x27;,\n",
              "                                                  OrdinalEncoder(categories=[[0,\n",
              "                                                                              1,\n",
              "                                                                              2,\n",
              "                                                                              3,\n",
              "                                                                              4]]))]),\n",
              "                                 [&#x27;masking_level&#x27;])])</pre></div></div></div><div class=\"sk-parallel\"><div class=\"sk-parallel-item\"><div class=\"sk-item\"><div class=\"sk-label-container\"><div class=\"sk-label sk-toggleable\"><input class=\"sk-toggleable__control sk-hidden--visually\" id=\"955edc80-b16b-4b45-8f78-6eeff130be6f\" type=\"checkbox\" ><label for=\"955edc80-b16b-4b45-8f78-6eeff130be6f\" class=\"sk-toggleable__label sk-toggleable__label-arrow\">numeric</label><div class=\"sk-toggleable__content\"><pre>[&#x27;date_diff_num&#x27;, &#x27;location_count&#x27;]</pre></div></div></div><div class=\"sk-serial\"><div class=\"sk-item\"><div class=\"sk-serial\"><div class=\"sk-item\"><div class=\"sk-estimator sk-toggleable\"><input class=\"sk-toggleable__control sk-hidden--visually\" id=\"73f166ca-0f01-4bf2-848f-f42b604cba95\" type=\"checkbox\" ><label for=\"73f166ca-0f01-4bf2-848f-f42b604cba95\" class=\"sk-toggleable__label sk-toggleable__label-arrow\">StandardScaler</label><div class=\"sk-toggleable__content\"><pre>StandardScaler()</pre></div></div></div></div></div></div></div></div><div class=\"sk-parallel-item\"><div class=\"sk-item\"><div class=\"sk-label-container\"><div class=\"sk-label sk-toggleable\"><input class=\"sk-toggleable__control sk-hidden--visually\" id=\"6b11b237-e071-43ab-9ec8-f1f54da0e2cc\" type=\"checkbox\" ><label for=\"6b11b237-e071-43ab-9ec8-f1f54da0e2cc\" class=\"sk-toggleable__label sk-toggleable__label-arrow\">categorical</label><div class=\"sk-toggleable__content\"><pre>[&#x27;allocation&#x27;, &#x27;intervention_model&#x27;, &#x27;primary_purpose&#x27;, &#x27;intervention_type&#x27;, &#x27;arm_group_type&#x27;, &#x27;healthy_vols&#x27;, &#x27;pt_mask&#x27;]</pre></div></div></div><div class=\"sk-serial\"><div class=\"sk-item\"><div class=\"sk-serial\"><div class=\"sk-item\"><div class=\"sk-estimator sk-toggleable\"><input class=\"sk-toggleable__control sk-hidden--visually\" id=\"046cdf66-f207-42a9-8736-c0000264409f\" type=\"checkbox\" ><label for=\"046cdf66-f207-42a9-8736-c0000264409f\" class=\"sk-toggleable__label sk-toggleable__label-arrow\">OneHotEncoder</label><div class=\"sk-toggleable__content\"><pre>OneHotEncoder(drop=&#x27;if_binary&#x27;)</pre></div></div></div></div></div></div></div></div><div class=\"sk-parallel-item\"><div class=\"sk-item\"><div class=\"sk-label-container\"><div class=\"sk-label sk-toggleable\"><input class=\"sk-toggleable__control sk-hidden--visually\" id=\"7f38fb05-6b28-4ddc-beef-ca9a9d718dd2\" type=\"checkbox\" ><label for=\"7f38fb05-6b28-4ddc-beef-ca9a9d718dd2\" class=\"sk-toggleable__label sk-toggleable__label-arrow\">oe_min_age</label><div class=\"sk-toggleable__content\"><pre>[&#x27;min_age_cat&#x27;]</pre></div></div></div><div class=\"sk-serial\"><div class=\"sk-item\"><div class=\"sk-serial\"><div class=\"sk-item\"><div class=\"sk-estimator sk-toggleable\"><input class=\"sk-toggleable__control sk-hidden--visually\" id=\"d812e1d8-a6c3-459b-86c1-971a38ba463b\" type=\"checkbox\" ><label for=\"d812e1d8-a6c3-459b-86c1-971a38ba463b\" class=\"sk-toggleable__label sk-toggleable__label-arrow\">OrdinalEncoder</label><div class=\"sk-toggleable__content\"><pre>OrdinalEncoder(categories=[[&#x27;infant&#x27;, &#x27;child&#x27;, &#x27;teen&#x27;, &#x27;adult&#x27;, &#x27;late adult&#x27;]])</pre></div></div></div></div></div></div></div></div><div class=\"sk-parallel-item\"><div class=\"sk-item\"><div class=\"sk-label-container\"><div class=\"sk-label sk-toggleable\"><input class=\"sk-toggleable__control sk-hidden--visually\" id=\"d6b34c49-4e17-4908-8dce-5eb2984dd7d3\" type=\"checkbox\" ><label for=\"d6b34c49-4e17-4908-8dce-5eb2984dd7d3\" class=\"sk-toggleable__label sk-toggleable__label-arrow\">oe_max_age</label><div class=\"sk-toggleable__content\"><pre>[&#x27;max_age_cat&#x27;]</pre></div></div></div><div class=\"sk-serial\"><div class=\"sk-item\"><div class=\"sk-serial\"><div class=\"sk-item\"><div class=\"sk-estimator sk-toggleable\"><input class=\"sk-toggleable__control sk-hidden--visually\" id=\"c30f4c98-8435-4992-adc8-fe7212dd4d07\" type=\"checkbox\" ><label for=\"c30f4c98-8435-4992-adc8-fe7212dd4d07\" class=\"sk-toggleable__label sk-toggleable__label-arrow\">OrdinalEncoder</label><div class=\"sk-toggleable__content\"><pre>OrdinalEncoder(categories=[[&#x27;infant&#x27;, &#x27;child&#x27;, &#x27;teen&#x27;, &#x27;adult&#x27;, &#x27;late adult&#x27;]])</pre></div></div></div></div></div></div></div></div><div class=\"sk-parallel-item\"><div class=\"sk-item\"><div class=\"sk-label-container\"><div class=\"sk-label sk-toggleable\"><input class=\"sk-toggleable__control sk-hidden--visually\" id=\"dcc772f8-3b3c-473a-8ea3-c5aa087c4473\" type=\"checkbox\" ><label for=\"dcc772f8-3b3c-473a-8ea3-c5aa087c4473\" class=\"sk-toggleable__label sk-toggleable__label-arrow\">oe_phase</label><div class=\"sk-toggleable__content\"><pre>[&#x27;phase&#x27;]</pre></div></div></div><div class=\"sk-serial\"><div class=\"sk-item\"><div class=\"sk-serial\"><div class=\"sk-item\"><div class=\"sk-estimator sk-toggleable\"><input class=\"sk-toggleable__control sk-hidden--visually\" id=\"160767ba-63e6-4abf-bfd3-4b6f82690848\" type=\"checkbox\" ><label for=\"160767ba-63e6-4abf-bfd3-4b6f82690848\" class=\"sk-toggleable__label sk-toggleable__label-arrow\">OrdinalEncoder</label><div class=\"sk-toggleable__content\"><pre>OrdinalEncoder(categories=[[&#x27;Phase 1.5&#x27;, &#x27;Phase 2&#x27;, &#x27;Phase 2.5&#x27;, &#x27;Phase 3&#x27;,\n",
              "                            &#x27;Phase 4&#x27;]])</pre></div></div></div></div></div></div></div></div><div class=\"sk-parallel-item\"><div class=\"sk-item\"><div class=\"sk-label-container\"><div class=\"sk-label sk-toggleable\"><input class=\"sk-toggleable__control sk-hidden--visually\" id=\"865240cf-4abc-4c4b-849e-7f076fb3c8da\" type=\"checkbox\" ><label for=\"865240cf-4abc-4c4b-849e-7f076fb3c8da\" class=\"sk-toggleable__label sk-toggleable__label-arrow\">oe_masking</label><div class=\"sk-toggleable__content\"><pre>[&#x27;masking_level&#x27;]</pre></div></div></div><div class=\"sk-serial\"><div class=\"sk-item\"><div class=\"sk-serial\"><div class=\"sk-item\"><div class=\"sk-estimator sk-toggleable\"><input class=\"sk-toggleable__control sk-hidden--visually\" id=\"4243a027-4573-4183-ae30-962f0fb64749\" type=\"checkbox\" ><label for=\"4243a027-4573-4183-ae30-962f0fb64749\" class=\"sk-toggleable__label sk-toggleable__label-arrow\">OrdinalEncoder</label><div class=\"sk-toggleable__content\"><pre>OrdinalEncoder(categories=[[0, 1, 2, 3, 4]])</pre></div></div></div></div></div></div></div></div><div class=\"sk-parallel-item\"><div class=\"sk-item\"><div class=\"sk-label-container\"><div class=\"sk-label sk-toggleable\"><input class=\"sk-toggleable__control sk-hidden--visually\" id=\"7f65bfbd-3f28-49aa-b9d3-a37e285d093d\" type=\"checkbox\" ><label for=\"7f65bfbd-3f28-49aa-b9d3-a37e285d093d\" class=\"sk-toggleable__label sk-toggleable__label-arrow\">remainder</label><div class=\"sk-toggleable__content\"><pre>[]</pre></div></div></div><div class=\"sk-serial\"><div class=\"sk-item\"><div class=\"sk-estimator sk-toggleable\"><input class=\"sk-toggleable__control sk-hidden--visually\" id=\"a1e4d471-7f0c-43bd-be85-86d07ea59904\" type=\"checkbox\" ><label for=\"a1e4d471-7f0c-43bd-be85-86d07ea59904\" class=\"sk-toggleable__label sk-toggleable__label-arrow\">passthrough</label><div class=\"sk-toggleable__content\"><pre>passthrough</pre></div></div></div></div></div></div></div></div><div class=\"sk-item\"><div class=\"sk-estimator sk-toggleable\"><input class=\"sk-toggleable__control sk-hidden--visually\" id=\"106d5068-0d53-41f8-b5f7-9133eedb68f3\" type=\"checkbox\" ><label for=\"106d5068-0d53-41f8-b5f7-9133eedb68f3\" class=\"sk-toggleable__label sk-toggleable__label-arrow\">DecisionTreeClassifier</label><div class=\"sk-toggleable__content\"><pre>DecisionTreeClassifier()</pre></div></div></div></div></div></div></div>"
            ]
          },
          "metadata": {},
          "execution_count": 18
        }
      ]
    },
    {
      "cell_type": "code",
      "source": [
        "lr_pipe = Pipeline(\n",
        "    steps =[\n",
        "        (\"preprocessing\" , col_transformer),\n",
        "        ('classifier' ,LogisticRegression(random_state=16 , max_iter = 200,multi_class = 'auto' , solver = 'newton-cg') )\n",
        "    ]\n",
        ")"
      ],
      "metadata": {
        "id": "nPdciCw9LSXL"
      },
      "execution_count": 54,
      "outputs": []
    },
    {
      "cell_type": "code",
      "source": [
        "lr_pipe.fit(X_train, Y_train)\n",
        "lr_predictions = lr_pipe.predict(X_test)\n",
        "\n",
        "print(\"First 5 LR predictions: \", list(lr_predictions[:5]))\n",
        "print(accuracy_score(Y_test,lr_predictions))\n",
        "print(f1_score(Y_test, lr_predictions , average=\"weighted\"))\n",
        "cnf_matrix_lr = metrics.confusion_matrix(Y_test, lr_predictions )"
      ],
      "metadata": {
        "colab": {
          "base_uri": "https://localhost:8080/"
        },
        "id": "c_WqjWKKLSgK",
        "outputId": "664f5236-6461-4b76-d6dd-3fa73698eddd"
      },
      "execution_count": 55,
      "outputs": [
        {
          "output_type": "stream",
          "name": "stdout",
          "text": [
            "First 5 LR predictions:  [0, 0, 0, 0, 0]\n",
            "0.6373056994818653\n",
            "0.5403599865861739\n"
          ]
        }
      ]
    },
    {
      "cell_type": "code",
      "source": [
        "coefs = lr_pipe.steps[1][1].coef_\n"
      ],
      "metadata": {
        "id": "Mn_Ur-HvZgpF"
      },
      "execution_count": 56,
      "outputs": []
    },
    {
      "cell_type": "code",
      "source": [
        "coefs"
      ],
      "metadata": {
        "colab": {
          "base_uri": "https://localhost:8080/"
        },
        "id": "dEYIE-TXcy9P",
        "outputId": "cb131f86-82f5-4e2e-8d71-87a5af86dc5a"
      },
      "execution_count": 57,
      "outputs": [
        {
          "output_type": "execute_result",
          "data": {
            "text/plain": [
              "array([[-2.82016265e-02, -8.16602460e-03, -1.91769517e-01,\n",
              "         5.89539617e-01, -5.44698883e-01,  2.15949626e-01,\n",
              "        -2.60785838e-01,  3.95879252e-01,  1.93810699e-01,\n",
              "        -4.62524812e-01,  1.06174772e-01, -3.42723279e-01,\n",
              "         1.88592150e-01, -2.51989851e-01,  1.72785593e-01,\n",
              "        -5.60702865e-02,  2.80273597e-01, -1.38667336e-01,\n",
              "        -3.88312271e-01, -3.01494874e-01,  6.04275693e-01,\n",
              "        -3.17229464e-01,  1.92107950e-01,  2.38646040e-01,\n",
              "        -1.13520002e-01,  1.01465316e-02,  2.78381289e-01,\n",
              "         3.83485610e-02, -2.13309373e-02,  5.76326918e-02,\n",
              "        -4.04720906e-02],\n",
              "       [ 8.62924381e-02,  4.11137935e-03,  1.28464131e-01,\n",
              "        -6.27961716e-02,  4.32256869e-02, -8.61437569e-02,\n",
              "         1.05706895e-01, -5.40865078e-02, -4.51507165e-02,\n",
              "         4.96119608e-01, -5.80504637e-01, -3.69554440e-01,\n",
              "        -1.64739017e-01,  5.90313943e-01,  1.27594421e-01,\n",
              "         3.13794083e-01, -7.33715725e-02,  2.72515131e-01,\n",
              "         1.09052732e-02, -1.25989076e-02, -5.11251354e-01,\n",
              "         2.19081706e-01,  1.05512964e-01, -6.12175175e-01,\n",
              "         2.87573159e-01, -1.42900660e-02,  2.98860994e-01,\n",
              "        -3.79632852e-02, -2.09971818e-02,  5.40547184e-02,\n",
              "         3.57715661e-03],\n",
              "       [-5.80908116e-02,  4.05464525e-03,  6.33053861e-02,\n",
              "        -5.26743446e-01,  5.01473196e-01, -1.29805870e-01,\n",
              "         1.55078943e-01, -3.41792744e-01, -1.48659982e-01,\n",
              "        -3.35947954e-02,  4.74329864e-01,  7.12277719e-01,\n",
              "        -2.38531329e-02, -3.38324092e-01, -3.00380014e-01,\n",
              "        -2.57723796e-01, -2.06902025e-01, -1.33847796e-01,\n",
              "         3.77406998e-01,  3.14093781e-01, -9.30243386e-02,\n",
              "         9.81477583e-02, -2.97620913e-01,  3.73529136e-01,\n",
              "        -1.74053157e-01,  4.14353435e-03, -5.77242284e-01,\n",
              "        -3.85275850e-04,  4.23281191e-02, -1.11687410e-01,\n",
              "         3.68949340e-02]])"
            ]
          },
          "metadata": {},
          "execution_count": 57
        }
      ]
    },
    {
      "cell_type": "code",
      "source": [
        "coefs = np.exp(coefs)"
      ],
      "metadata": {
        "id": "uTYIOOb2cOAB"
      },
      "execution_count": 58,
      "outputs": []
    },
    {
      "cell_type": "code",
      "source": [
        "coefs"
      ],
      "metadata": {
        "colab": {
          "base_uri": "https://localhost:8080/"
        },
        "id": "CarXX2tV52-6",
        "outputId": "dd67bffd-4c40-47d6-cba0-82b6b7e33d66"
      },
      "execution_count": 59,
      "outputs": [
        {
          "output_type": "execute_result",
          "data": {
            "text/plain": [
              "array([[0.97219233, 0.99186723, 0.82549711, 1.80315808, 0.58001641,\n",
              "        1.24103986, 0.7704459 , 1.48568991, 1.21386647, 0.62969178,\n",
              "        1.11201621, 0.70983461, 1.20754835, 0.77725263, 1.18861123,\n",
              "        0.94547268, 1.32349187, 0.87051757, 0.67820053, 0.73971162,\n",
              "        1.8299263 , 0.72816365, 1.21180132, 1.26952909, 0.89268634,\n",
              "        1.01019818, 1.32098978, 1.03909336, 0.97889496, 1.05932583,\n",
              "        0.96033597],\n",
              "       [1.09012508, 1.00411984, 1.13708063, 0.93913488, 1.04417352,\n",
              "        0.91746233, 1.11149604, 0.94735015, 0.95585341, 1.64233598,\n",
              "        0.55961589, 0.69104216, 0.84811502, 1.80455485, 1.13609213,\n",
              "        1.36860789, 0.92925548, 1.31326333, 1.01096495, 0.98748013,\n",
              "        0.59974462, 1.24493299, 1.11128051, 0.54217027, 1.33318812,\n",
              "        0.98581155, 1.34832219, 0.96274829, 0.97922172, 1.05554236,\n",
              "        1.00358356],\n",
              "       [0.94356426, 1.00406288, 1.06535213, 0.59052492, 1.65115195,\n",
              "        0.87826591, 1.16775014, 0.71049544, 0.86186211, 0.96696324,\n",
              "        1.60693697, 2.0386294 , 0.9764291 , 0.71296418, 0.74053675,\n",
              "        0.77280866, 0.81309931, 0.87472319, 1.45849779, 1.36901812,\n",
              "        0.91117132, 1.10312577, 0.74258279, 1.45285289, 0.84025223,\n",
              "        1.00415213, 0.56144454, 0.9996148 , 1.04323673, 0.89432377,\n",
              "        1.037584  ]])"
            ]
          },
          "metadata": {},
          "execution_count": 59
        }
      ]
    },
    {
      "cell_type": "code",
      "source": [
        "zero_df = pd.DataFrame(coefs[0] , columns=['odds_ratio'])\n",
        "zero_df['column'] = columns\n",
        "zero_sorted = zero_df.sort_values('odds_ratio')\n",
        "\n",
        "\n",
        "one_df = pd.DataFrame(coefs[1] , columns=['odds_ratio'])\n",
        "one_df['column'] = columns\n",
        "one_sorted = one_df.sort_values('odds_ratio')\n",
        "\n",
        "\n",
        "two_df =pd.DataFrame(coefs[2] , columns=['odds_ratio'])\n",
        "two_df['column'] = columns\n",
        "two_sorted = two_df.sort_values('odds_ratio')"
      ],
      "metadata": {
        "id": "YypGiQZg53KJ"
      },
      "execution_count": 60,
      "outputs": []
    },
    {
      "cell_type": "code",
      "source": [
        "\n",
        "pd.concat([zero_sorted[:5] , zero_sorted[-5:]])"
      ],
      "metadata": {
        "colab": {
          "base_uri": "https://localhost:8080/",
          "height": 363
        },
        "id": "cN4N1h4X53WF",
        "outputId": "1613fd0b-5237-4558-f337-c52d952b7c1a"
      },
      "execution_count": 90,
      "outputs": [
        {
          "output_type": "execute_result",
          "data": {
            "text/plain": [
              "    odds_ratio                                    column\n",
              "4     0.580016   intervention_model_Factorial Assignment\n",
              "9     0.629692  primary_purpose_Health Services Research\n",
              "18    0.678201                    intervention_type_Drug\n",
              "11    0.709835                primary_purpose_Prevention\n",
              "21    0.728164          arm_group_type_Active Comparator\n",
              "26    1.320990                               pt_mask_Yes\n",
              "16    1.323492                  intervention_type_Device\n",
              "7     1.485690             primary_purpose_Basic Science\n",
              "3     1.803158   intervention_model_Crossover Assignment\n",
              "20    1.829926               intervention_type_Radiation"
            ],
            "text/html": [
              "\n",
              "  <div id=\"df-2071c22a-5753-49a4-891a-276c9583fda5\">\n",
              "    <div class=\"colab-df-container\">\n",
              "      <div>\n",
              "<style scoped>\n",
              "    .dataframe tbody tr th:only-of-type {\n",
              "        vertical-align: middle;\n",
              "    }\n",
              "\n",
              "    .dataframe tbody tr th {\n",
              "        vertical-align: top;\n",
              "    }\n",
              "\n",
              "    .dataframe thead th {\n",
              "        text-align: right;\n",
              "    }\n",
              "</style>\n",
              "<table border=\"1\" class=\"dataframe\">\n",
              "  <thead>\n",
              "    <tr style=\"text-align: right;\">\n",
              "      <th></th>\n",
              "      <th>odds_ratio</th>\n",
              "      <th>column</th>\n",
              "    </tr>\n",
              "  </thead>\n",
              "  <tbody>\n",
              "    <tr>\n",
              "      <th>4</th>\n",
              "      <td>0.580016</td>\n",
              "      <td>intervention_model_Factorial Assignment</td>\n",
              "    </tr>\n",
              "    <tr>\n",
              "      <th>9</th>\n",
              "      <td>0.629692</td>\n",
              "      <td>primary_purpose_Health Services Research</td>\n",
              "    </tr>\n",
              "    <tr>\n",
              "      <th>18</th>\n",
              "      <td>0.678201</td>\n",
              "      <td>intervention_type_Drug</td>\n",
              "    </tr>\n",
              "    <tr>\n",
              "      <th>11</th>\n",
              "      <td>0.709835</td>\n",
              "      <td>primary_purpose_Prevention</td>\n",
              "    </tr>\n",
              "    <tr>\n",
              "      <th>21</th>\n",
              "      <td>0.728164</td>\n",
              "      <td>arm_group_type_Active Comparator</td>\n",
              "    </tr>\n",
              "    <tr>\n",
              "      <th>26</th>\n",
              "      <td>1.320990</td>\n",
              "      <td>pt_mask_Yes</td>\n",
              "    </tr>\n",
              "    <tr>\n",
              "      <th>16</th>\n",
              "      <td>1.323492</td>\n",
              "      <td>intervention_type_Device</td>\n",
              "    </tr>\n",
              "    <tr>\n",
              "      <th>7</th>\n",
              "      <td>1.485690</td>\n",
              "      <td>primary_purpose_Basic Science</td>\n",
              "    </tr>\n",
              "    <tr>\n",
              "      <th>3</th>\n",
              "      <td>1.803158</td>\n",
              "      <td>intervention_model_Crossover Assignment</td>\n",
              "    </tr>\n",
              "    <tr>\n",
              "      <th>20</th>\n",
              "      <td>1.829926</td>\n",
              "      <td>intervention_type_Radiation</td>\n",
              "    </tr>\n",
              "  </tbody>\n",
              "</table>\n",
              "</div>\n",
              "      <button class=\"colab-df-convert\" onclick=\"convertToInteractive('df-2071c22a-5753-49a4-891a-276c9583fda5')\"\n",
              "              title=\"Convert this dataframe to an interactive table.\"\n",
              "              style=\"display:none;\">\n",
              "        \n",
              "  <svg xmlns=\"http://www.w3.org/2000/svg\" height=\"24px\"viewBox=\"0 0 24 24\"\n",
              "       width=\"24px\">\n",
              "    <path d=\"M0 0h24v24H0V0z\" fill=\"none\"/>\n",
              "    <path d=\"M18.56 5.44l.94 2.06.94-2.06 2.06-.94-2.06-.94-.94-2.06-.94 2.06-2.06.94zm-11 1L8.5 8.5l.94-2.06 2.06-.94-2.06-.94L8.5 2.5l-.94 2.06-2.06.94zm10 10l.94 2.06.94-2.06 2.06-.94-2.06-.94-.94-2.06-.94 2.06-2.06.94z\"/><path d=\"M17.41 7.96l-1.37-1.37c-.4-.4-.92-.59-1.43-.59-.52 0-1.04.2-1.43.59L10.3 9.45l-7.72 7.72c-.78.78-.78 2.05 0 2.83L4 21.41c.39.39.9.59 1.41.59.51 0 1.02-.2 1.41-.59l7.78-7.78 2.81-2.81c.8-.78.8-2.07 0-2.86zM5.41 20L4 18.59l7.72-7.72 1.47 1.35L5.41 20z\"/>\n",
              "  </svg>\n",
              "      </button>\n",
              "      \n",
              "  <style>\n",
              "    .colab-df-container {\n",
              "      display:flex;\n",
              "      flex-wrap:wrap;\n",
              "      gap: 12px;\n",
              "    }\n",
              "\n",
              "    .colab-df-convert {\n",
              "      background-color: #E8F0FE;\n",
              "      border: none;\n",
              "      border-radius: 50%;\n",
              "      cursor: pointer;\n",
              "      display: none;\n",
              "      fill: #1967D2;\n",
              "      height: 32px;\n",
              "      padding: 0 0 0 0;\n",
              "      width: 32px;\n",
              "    }\n",
              "\n",
              "    .colab-df-convert:hover {\n",
              "      background-color: #E2EBFA;\n",
              "      box-shadow: 0px 1px 2px rgba(60, 64, 67, 0.3), 0px 1px 3px 1px rgba(60, 64, 67, 0.15);\n",
              "      fill: #174EA6;\n",
              "    }\n",
              "\n",
              "    [theme=dark] .colab-df-convert {\n",
              "      background-color: #3B4455;\n",
              "      fill: #D2E3FC;\n",
              "    }\n",
              "\n",
              "    [theme=dark] .colab-df-convert:hover {\n",
              "      background-color: #434B5C;\n",
              "      box-shadow: 0px 1px 3px 1px rgba(0, 0, 0, 0.15);\n",
              "      filter: drop-shadow(0px 1px 2px rgba(0, 0, 0, 0.3));\n",
              "      fill: #FFFFFF;\n",
              "    }\n",
              "  </style>\n",
              "\n",
              "      <script>\n",
              "        const buttonEl =\n",
              "          document.querySelector('#df-2071c22a-5753-49a4-891a-276c9583fda5 button.colab-df-convert');\n",
              "        buttonEl.style.display =\n",
              "          google.colab.kernel.accessAllowed ? 'block' : 'none';\n",
              "\n",
              "        async function convertToInteractive(key) {\n",
              "          const element = document.querySelector('#df-2071c22a-5753-49a4-891a-276c9583fda5');\n",
              "          const dataTable =\n",
              "            await google.colab.kernel.invokeFunction('convertToInteractive',\n",
              "                                                     [key], {});\n",
              "          if (!dataTable) return;\n",
              "\n",
              "          const docLinkHtml = 'Like what you see? Visit the ' +\n",
              "            '<a target=\"_blank\" href=https://colab.research.google.com/notebooks/data_table.ipynb>data table notebook</a>'\n",
              "            + ' to learn more about interactive tables.';\n",
              "          element.innerHTML = '';\n",
              "          dataTable['output_type'] = 'display_data';\n",
              "          await google.colab.output.renderOutput(dataTable, element);\n",
              "          const docLink = document.createElement('div');\n",
              "          docLink.innerHTML = docLinkHtml;\n",
              "          element.appendChild(docLink);\n",
              "        }\n",
              "      </script>\n",
              "    </div>\n",
              "  </div>\n",
              "  "
            ]
          },
          "metadata": {},
          "execution_count": 90
        }
      ]
    },
    {
      "cell_type": "code",
      "source": [
        "\n",
        "pd.concat([one_sorted[:5] , one_sorted[-5:]])"
      ],
      "metadata": {
        "colab": {
          "base_uri": "https://localhost:8080/",
          "height": 363
        },
        "id": "-xAi2VOJ54CH",
        "outputId": "f0386774-3505-42d7-abb8-6f9f49937baf"
      },
      "execution_count": 91,
      "outputs": [
        {
          "output_type": "execute_result",
          "data": {
            "text/plain": [
              "    odds_ratio                                    column\n",
              "23    0.542170                      arm_group_type_Other\n",
              "10    0.559616                     primary_purpose_Other\n",
              "20    0.599745               intervention_type_Radiation\n",
              "11    0.691042                primary_purpose_Prevention\n",
              "12    0.848115                 primary_purpose_Screening\n",
              "24    1.333188         arm_group_type_Placebo Comparator\n",
              "26    1.348322                               pt_mask_Yes\n",
              "15    1.368608              intervention_type_Biological\n",
              "9     1.642336  primary_purpose_Health Services Research\n",
              "13    1.804555           primary_purpose_Supportive Care"
            ],
            "text/html": [
              "\n",
              "  <div id=\"df-ac45e10c-435d-44bc-a7a8-1bc0e7714b80\">\n",
              "    <div class=\"colab-df-container\">\n",
              "      <div>\n",
              "<style scoped>\n",
              "    .dataframe tbody tr th:only-of-type {\n",
              "        vertical-align: middle;\n",
              "    }\n",
              "\n",
              "    .dataframe tbody tr th {\n",
              "        vertical-align: top;\n",
              "    }\n",
              "\n",
              "    .dataframe thead th {\n",
              "        text-align: right;\n",
              "    }\n",
              "</style>\n",
              "<table border=\"1\" class=\"dataframe\">\n",
              "  <thead>\n",
              "    <tr style=\"text-align: right;\">\n",
              "      <th></th>\n",
              "      <th>odds_ratio</th>\n",
              "      <th>column</th>\n",
              "    </tr>\n",
              "  </thead>\n",
              "  <tbody>\n",
              "    <tr>\n",
              "      <th>23</th>\n",
              "      <td>0.542170</td>\n",
              "      <td>arm_group_type_Other</td>\n",
              "    </tr>\n",
              "    <tr>\n",
              "      <th>10</th>\n",
              "      <td>0.559616</td>\n",
              "      <td>primary_purpose_Other</td>\n",
              "    </tr>\n",
              "    <tr>\n",
              "      <th>20</th>\n",
              "      <td>0.599745</td>\n",
              "      <td>intervention_type_Radiation</td>\n",
              "    </tr>\n",
              "    <tr>\n",
              "      <th>11</th>\n",
              "      <td>0.691042</td>\n",
              "      <td>primary_purpose_Prevention</td>\n",
              "    </tr>\n",
              "    <tr>\n",
              "      <th>12</th>\n",
              "      <td>0.848115</td>\n",
              "      <td>primary_purpose_Screening</td>\n",
              "    </tr>\n",
              "    <tr>\n",
              "      <th>24</th>\n",
              "      <td>1.333188</td>\n",
              "      <td>arm_group_type_Placebo Comparator</td>\n",
              "    </tr>\n",
              "    <tr>\n",
              "      <th>26</th>\n",
              "      <td>1.348322</td>\n",
              "      <td>pt_mask_Yes</td>\n",
              "    </tr>\n",
              "    <tr>\n",
              "      <th>15</th>\n",
              "      <td>1.368608</td>\n",
              "      <td>intervention_type_Biological</td>\n",
              "    </tr>\n",
              "    <tr>\n",
              "      <th>9</th>\n",
              "      <td>1.642336</td>\n",
              "      <td>primary_purpose_Health Services Research</td>\n",
              "    </tr>\n",
              "    <tr>\n",
              "      <th>13</th>\n",
              "      <td>1.804555</td>\n",
              "      <td>primary_purpose_Supportive Care</td>\n",
              "    </tr>\n",
              "  </tbody>\n",
              "</table>\n",
              "</div>\n",
              "      <button class=\"colab-df-convert\" onclick=\"convertToInteractive('df-ac45e10c-435d-44bc-a7a8-1bc0e7714b80')\"\n",
              "              title=\"Convert this dataframe to an interactive table.\"\n",
              "              style=\"display:none;\">\n",
              "        \n",
              "  <svg xmlns=\"http://www.w3.org/2000/svg\" height=\"24px\"viewBox=\"0 0 24 24\"\n",
              "       width=\"24px\">\n",
              "    <path d=\"M0 0h24v24H0V0z\" fill=\"none\"/>\n",
              "    <path d=\"M18.56 5.44l.94 2.06.94-2.06 2.06-.94-2.06-.94-.94-2.06-.94 2.06-2.06.94zm-11 1L8.5 8.5l.94-2.06 2.06-.94-2.06-.94L8.5 2.5l-.94 2.06-2.06.94zm10 10l.94 2.06.94-2.06 2.06-.94-2.06-.94-.94-2.06-.94 2.06-2.06.94z\"/><path d=\"M17.41 7.96l-1.37-1.37c-.4-.4-.92-.59-1.43-.59-.52 0-1.04.2-1.43.59L10.3 9.45l-7.72 7.72c-.78.78-.78 2.05 0 2.83L4 21.41c.39.39.9.59 1.41.59.51 0 1.02-.2 1.41-.59l7.78-7.78 2.81-2.81c.8-.78.8-2.07 0-2.86zM5.41 20L4 18.59l7.72-7.72 1.47 1.35L5.41 20z\"/>\n",
              "  </svg>\n",
              "      </button>\n",
              "      \n",
              "  <style>\n",
              "    .colab-df-container {\n",
              "      display:flex;\n",
              "      flex-wrap:wrap;\n",
              "      gap: 12px;\n",
              "    }\n",
              "\n",
              "    .colab-df-convert {\n",
              "      background-color: #E8F0FE;\n",
              "      border: none;\n",
              "      border-radius: 50%;\n",
              "      cursor: pointer;\n",
              "      display: none;\n",
              "      fill: #1967D2;\n",
              "      height: 32px;\n",
              "      padding: 0 0 0 0;\n",
              "      width: 32px;\n",
              "    }\n",
              "\n",
              "    .colab-df-convert:hover {\n",
              "      background-color: #E2EBFA;\n",
              "      box-shadow: 0px 1px 2px rgba(60, 64, 67, 0.3), 0px 1px 3px 1px rgba(60, 64, 67, 0.15);\n",
              "      fill: #174EA6;\n",
              "    }\n",
              "\n",
              "    [theme=dark] .colab-df-convert {\n",
              "      background-color: #3B4455;\n",
              "      fill: #D2E3FC;\n",
              "    }\n",
              "\n",
              "    [theme=dark] .colab-df-convert:hover {\n",
              "      background-color: #434B5C;\n",
              "      box-shadow: 0px 1px 3px 1px rgba(0, 0, 0, 0.15);\n",
              "      filter: drop-shadow(0px 1px 2px rgba(0, 0, 0, 0.3));\n",
              "      fill: #FFFFFF;\n",
              "    }\n",
              "  </style>\n",
              "\n",
              "      <script>\n",
              "        const buttonEl =\n",
              "          document.querySelector('#df-ac45e10c-435d-44bc-a7a8-1bc0e7714b80 button.colab-df-convert');\n",
              "        buttonEl.style.display =\n",
              "          google.colab.kernel.accessAllowed ? 'block' : 'none';\n",
              "\n",
              "        async function convertToInteractive(key) {\n",
              "          const element = document.querySelector('#df-ac45e10c-435d-44bc-a7a8-1bc0e7714b80');\n",
              "          const dataTable =\n",
              "            await google.colab.kernel.invokeFunction('convertToInteractive',\n",
              "                                                     [key], {});\n",
              "          if (!dataTable) return;\n",
              "\n",
              "          const docLinkHtml = 'Like what you see? Visit the ' +\n",
              "            '<a target=\"_blank\" href=https://colab.research.google.com/notebooks/data_table.ipynb>data table notebook</a>'\n",
              "            + ' to learn more about interactive tables.';\n",
              "          element.innerHTML = '';\n",
              "          dataTable['output_type'] = 'display_data';\n",
              "          await google.colab.output.renderOutput(dataTable, element);\n",
              "          const docLink = document.createElement('div');\n",
              "          docLink.innerHTML = docLinkHtml;\n",
              "          element.appendChild(docLink);\n",
              "        }\n",
              "      </script>\n",
              "    </div>\n",
              "  </div>\n",
              "  "
            ]
          },
          "metadata": {},
          "execution_count": 91
        }
      ]
    },
    {
      "cell_type": "code",
      "source": [
        "\n",
        "pd.concat([two_sorted[:5] , two_sorted[-5:]])"
      ],
      "metadata": {
        "colab": {
          "base_uri": "https://localhost:8080/",
          "height": 363
        },
        "id": "Cv57YXsM54W5",
        "outputId": "4de4007e-9ff0-4561-ccb9-7c329762bdfe"
      },
      "execution_count": 92,
      "outputs": [
        {
          "output_type": "execute_result",
          "data": {
            "text/plain": [
              "    odds_ratio                                   column\n",
              "26    0.561445                              pt_mask_Yes\n",
              "3     0.590525  intervention_model_Crossover Assignment\n",
              "7     0.710495            primary_purpose_Basic Science\n",
              "13    0.712964          primary_purpose_Supportive Care\n",
              "14    0.740537                primary_purpose_Treatment\n",
              "23    1.452853                     arm_group_type_Other\n",
              "18    1.458498                   intervention_type_Drug\n",
              "10    1.606937                    primary_purpose_Other\n",
              "4     1.651152  intervention_model_Factorial Assignment\n",
              "11    2.038629               primary_purpose_Prevention"
            ],
            "text/html": [
              "\n",
              "  <div id=\"df-4aced814-1567-49d6-9fa1-494e991bdfff\">\n",
              "    <div class=\"colab-df-container\">\n",
              "      <div>\n",
              "<style scoped>\n",
              "    .dataframe tbody tr th:only-of-type {\n",
              "        vertical-align: middle;\n",
              "    }\n",
              "\n",
              "    .dataframe tbody tr th {\n",
              "        vertical-align: top;\n",
              "    }\n",
              "\n",
              "    .dataframe thead th {\n",
              "        text-align: right;\n",
              "    }\n",
              "</style>\n",
              "<table border=\"1\" class=\"dataframe\">\n",
              "  <thead>\n",
              "    <tr style=\"text-align: right;\">\n",
              "      <th></th>\n",
              "      <th>odds_ratio</th>\n",
              "      <th>column</th>\n",
              "    </tr>\n",
              "  </thead>\n",
              "  <tbody>\n",
              "    <tr>\n",
              "      <th>26</th>\n",
              "      <td>0.561445</td>\n",
              "      <td>pt_mask_Yes</td>\n",
              "    </tr>\n",
              "    <tr>\n",
              "      <th>3</th>\n",
              "      <td>0.590525</td>\n",
              "      <td>intervention_model_Crossover Assignment</td>\n",
              "    </tr>\n",
              "    <tr>\n",
              "      <th>7</th>\n",
              "      <td>0.710495</td>\n",
              "      <td>primary_purpose_Basic Science</td>\n",
              "    </tr>\n",
              "    <tr>\n",
              "      <th>13</th>\n",
              "      <td>0.712964</td>\n",
              "      <td>primary_purpose_Supportive Care</td>\n",
              "    </tr>\n",
              "    <tr>\n",
              "      <th>14</th>\n",
              "      <td>0.740537</td>\n",
              "      <td>primary_purpose_Treatment</td>\n",
              "    </tr>\n",
              "    <tr>\n",
              "      <th>23</th>\n",
              "      <td>1.452853</td>\n",
              "      <td>arm_group_type_Other</td>\n",
              "    </tr>\n",
              "    <tr>\n",
              "      <th>18</th>\n",
              "      <td>1.458498</td>\n",
              "      <td>intervention_type_Drug</td>\n",
              "    </tr>\n",
              "    <tr>\n",
              "      <th>10</th>\n",
              "      <td>1.606937</td>\n",
              "      <td>primary_purpose_Other</td>\n",
              "    </tr>\n",
              "    <tr>\n",
              "      <th>4</th>\n",
              "      <td>1.651152</td>\n",
              "      <td>intervention_model_Factorial Assignment</td>\n",
              "    </tr>\n",
              "    <tr>\n",
              "      <th>11</th>\n",
              "      <td>2.038629</td>\n",
              "      <td>primary_purpose_Prevention</td>\n",
              "    </tr>\n",
              "  </tbody>\n",
              "</table>\n",
              "</div>\n",
              "      <button class=\"colab-df-convert\" onclick=\"convertToInteractive('df-4aced814-1567-49d6-9fa1-494e991bdfff')\"\n",
              "              title=\"Convert this dataframe to an interactive table.\"\n",
              "              style=\"display:none;\">\n",
              "        \n",
              "  <svg xmlns=\"http://www.w3.org/2000/svg\" height=\"24px\"viewBox=\"0 0 24 24\"\n",
              "       width=\"24px\">\n",
              "    <path d=\"M0 0h24v24H0V0z\" fill=\"none\"/>\n",
              "    <path d=\"M18.56 5.44l.94 2.06.94-2.06 2.06-.94-2.06-.94-.94-2.06-.94 2.06-2.06.94zm-11 1L8.5 8.5l.94-2.06 2.06-.94-2.06-.94L8.5 2.5l-.94 2.06-2.06.94zm10 10l.94 2.06.94-2.06 2.06-.94-2.06-.94-.94-2.06-.94 2.06-2.06.94z\"/><path d=\"M17.41 7.96l-1.37-1.37c-.4-.4-.92-.59-1.43-.59-.52 0-1.04.2-1.43.59L10.3 9.45l-7.72 7.72c-.78.78-.78 2.05 0 2.83L4 21.41c.39.39.9.59 1.41.59.51 0 1.02-.2 1.41-.59l7.78-7.78 2.81-2.81c.8-.78.8-2.07 0-2.86zM5.41 20L4 18.59l7.72-7.72 1.47 1.35L5.41 20z\"/>\n",
              "  </svg>\n",
              "      </button>\n",
              "      \n",
              "  <style>\n",
              "    .colab-df-container {\n",
              "      display:flex;\n",
              "      flex-wrap:wrap;\n",
              "      gap: 12px;\n",
              "    }\n",
              "\n",
              "    .colab-df-convert {\n",
              "      background-color: #E8F0FE;\n",
              "      border: none;\n",
              "      border-radius: 50%;\n",
              "      cursor: pointer;\n",
              "      display: none;\n",
              "      fill: #1967D2;\n",
              "      height: 32px;\n",
              "      padding: 0 0 0 0;\n",
              "      width: 32px;\n",
              "    }\n",
              "\n",
              "    .colab-df-convert:hover {\n",
              "      background-color: #E2EBFA;\n",
              "      box-shadow: 0px 1px 2px rgba(60, 64, 67, 0.3), 0px 1px 3px 1px rgba(60, 64, 67, 0.15);\n",
              "      fill: #174EA6;\n",
              "    }\n",
              "\n",
              "    [theme=dark] .colab-df-convert {\n",
              "      background-color: #3B4455;\n",
              "      fill: #D2E3FC;\n",
              "    }\n",
              "\n",
              "    [theme=dark] .colab-df-convert:hover {\n",
              "      background-color: #434B5C;\n",
              "      box-shadow: 0px 1px 3px 1px rgba(0, 0, 0, 0.15);\n",
              "      filter: drop-shadow(0px 1px 2px rgba(0, 0, 0, 0.3));\n",
              "      fill: #FFFFFF;\n",
              "    }\n",
              "  </style>\n",
              "\n",
              "      <script>\n",
              "        const buttonEl =\n",
              "          document.querySelector('#df-4aced814-1567-49d6-9fa1-494e991bdfff button.colab-df-convert');\n",
              "        buttonEl.style.display =\n",
              "          google.colab.kernel.accessAllowed ? 'block' : 'none';\n",
              "\n",
              "        async function convertToInteractive(key) {\n",
              "          const element = document.querySelector('#df-4aced814-1567-49d6-9fa1-494e991bdfff');\n",
              "          const dataTable =\n",
              "            await google.colab.kernel.invokeFunction('convertToInteractive',\n",
              "                                                     [key], {});\n",
              "          if (!dataTable) return;\n",
              "\n",
              "          const docLinkHtml = 'Like what you see? Visit the ' +\n",
              "            '<a target=\"_blank\" href=https://colab.research.google.com/notebooks/data_table.ipynb>data table notebook</a>'\n",
              "            + ' to learn more about interactive tables.';\n",
              "          element.innerHTML = '';\n",
              "          dataTable['output_type'] = 'display_data';\n",
              "          await google.colab.output.renderOutput(dataTable, element);\n",
              "          const docLink = document.createElement('div');\n",
              "          docLink.innerHTML = docLinkHtml;\n",
              "          element.appendChild(docLink);\n",
              "        }\n",
              "      </script>\n",
              "    </div>\n",
              "  </div>\n",
              "  "
            ]
          },
          "metadata": {},
          "execution_count": 92
        }
      ]
    },
    {
      "cell_type": "code",
      "source": [],
      "metadata": {
        "id": "siP8GAH554r0"
      },
      "execution_count": null,
      "outputs": []
    },
    {
      "cell_type": "code",
      "source": [
        "target_names = ['low', 'medium' , 'high']\n",
        "print(classification_report(Y_test, lr_predictions, target_names=target_names))"
      ],
      "metadata": {
        "colab": {
          "base_uri": "https://localhost:8080/"
        },
        "id": "VbIk7tZELSlj",
        "outputId": "90e4aab1-9dc5-41be-d285-f5b405c8c814"
      },
      "execution_count": 24,
      "outputs": [
        {
          "output_type": "stream",
          "name": "stdout",
          "text": [
            "              precision    recall  f1-score   support\n",
            "\n",
            "         low       0.66      0.94      0.78       126\n",
            "      medium       0.33      0.07      0.12        57\n",
            "        high       0.00      0.00      0.00        10\n",
            "\n",
            "    accuracy                           0.64       193\n",
            "   macro avg       0.33      0.34      0.30       193\n",
            "weighted avg       0.53      0.64      0.54       193\n",
            "\n"
          ]
        },
        {
          "output_type": "stream",
          "name": "stderr",
          "text": [
            "/usr/local/lib/python3.8/dist-packages/sklearn/metrics/_classification.py:1318: UndefinedMetricWarning: Precision and F-score are ill-defined and being set to 0.0 in labels with no predicted samples. Use `zero_division` parameter to control this behavior.\n",
            "  _warn_prf(average, modifier, msg_start, len(result))\n",
            "/usr/local/lib/python3.8/dist-packages/sklearn/metrics/_classification.py:1318: UndefinedMetricWarning: Precision and F-score are ill-defined and being set to 0.0 in labels with no predicted samples. Use `zero_division` parameter to control this behavior.\n",
            "  _warn_prf(average, modifier, msg_start, len(result))\n",
            "/usr/local/lib/python3.8/dist-packages/sklearn/metrics/_classification.py:1318: UndefinedMetricWarning: Precision and F-score are ill-defined and being set to 0.0 in labels with no predicted samples. Use `zero_division` parameter to control this behavior.\n",
            "  _warn_prf(average, modifier, msg_start, len(result))\n"
          ]
        }
      ]
    },
    {
      "cell_type": "code",
      "source": [
        "class_names=['low' , 'medium' , 'high'] # name  of classes\n",
        "fig, ax = plt.subplots()\n",
        "tick_marks = np.arange(len(class_names))\n",
        "plt.xticks(tick_marks, class_names)\n",
        "plt.yticks(tick_marks, class_names)\n",
        "# create heatmap\n",
        "sns.heatmap(pd.DataFrame(cnf_matrix_lr), annot=True, cmap=\"YlGnBu\" ,fmt='g')\n",
        "ax.xaxis.set_label_position(\"top\")\n",
        "plt.tight_layout()\n",
        "plt.title('Confusion matrix', y=1.1)\n",
        "plt.ylabel('Actual label')\n",
        "plt.xlabel('Predicted label')"
      ],
      "metadata": {
        "colab": {
          "base_uri": "https://localhost:8080/",
          "height": 342
        },
        "id": "BdlH-HQMLSqT",
        "outputId": "4a6b854e-3add-4b34-bd1e-7a6f005e41e9"
      },
      "execution_count": null,
      "outputs": [
        {
          "output_type": "execute_result",
          "data": {
            "text/plain": [
              "Text(0.5, 257.44, 'Predicted label')"
            ]
          },
          "metadata": {},
          "execution_count": 21
        },
        {
          "output_type": "display_data",
          "data": {
            "text/plain": [
              "<Figure size 432x288 with 2 Axes>"
            ],
            "image/png": "[encoded data removed]"
          },
          "metadata": {
            "needs_background": "light"
          }
        }
      ]
    },
    {
      "cell_type": "code",
      "source": [
        "svm_pipe = Pipeline(\n",
        "    steps =[\n",
        "        (\"preprocessing\" , col_transformer),\n",
        "        ('classifier' ,svm.SVC(kernel = \"linear\") )\n",
        "    ]\n",
        ")"
      ],
      "metadata": {
        "id": "zjLfTGuKSrOp"
      },
      "execution_count": null,
      "outputs": []
    },
    {
      "cell_type": "code",
      "source": [
        "svm_pipe.fit(X_train, Y_train)\n",
        "svm_predictions = svm_pipe.predict(X_test)\n",
        "\n",
        "print(\"First 5 LR predictions: \", list(svm_predictions[:5]))\n",
        "print(accuracy_score(Y_test,svm_predictions))\n",
        "print(f1_score(Y_test, svm_predictions , average=\"weighted\"))\n",
        "cnf_matrix_svm = metrics.confusion_matrix(Y_test, svm_predictions )"
      ],
      "metadata": {
        "colab": {
          "base_uri": "https://localhost:8080/"
        },
        "id": "wb99dNoWSrcm",
        "outputId": "4ea63845-bd03-46b4-8d5d-384781dcadf7"
      },
      "execution_count": null,
      "outputs": [
        {
          "output_type": "stream",
          "name": "stdout",
          "text": [
            "First 5 LR predictions:  [0, 0, 0, 0, 0]\n",
            "0.6476683937823834\n",
            "0.5148657262875729\n"
          ]
        }
      ]
    },
    {
      "cell_type": "code",
      "source": [
        "target_names = ['low', 'medium' , 'high']\n",
        "print(classification_report(Y_test, svm_predictions, target_names=target_names))"
      ],
      "metadata": {
        "colab": {
          "base_uri": "https://localhost:8080/"
        },
        "id": "QvRgPlyzSriW",
        "outputId": "8beb7a1e-2c80-4059-821c-e62c37bb749b"
      },
      "execution_count": null,
      "outputs": [
        {
          "output_type": "stream",
          "name": "stdout",
          "text": [
            "              precision    recall  f1-score   support\n",
            "\n",
            "         low       0.65      0.99      0.79       126\n",
            "      medium       0.00      0.00      0.00        57\n",
            "        high       0.00      0.00      0.00        10\n",
            "\n",
            "    accuracy                           0.65       193\n",
            "   macro avg       0.22      0.33      0.26       193\n",
            "weighted avg       0.43      0.65      0.51       193\n",
            "\n"
          ]
        },
        {
          "output_type": "stream",
          "name": "stderr",
          "text": [
            "/usr/local/lib/python3.8/dist-packages/sklearn/metrics/_classification.py:1318: UndefinedMetricWarning: Precision and F-score are ill-defined and being set to 0.0 in labels with no predicted samples. Use `zero_division` parameter to control this behavior.\n",
            "  _warn_prf(average, modifier, msg_start, len(result))\n",
            "/usr/local/lib/python3.8/dist-packages/sklearn/metrics/_classification.py:1318: UndefinedMetricWarning: Precision and F-score are ill-defined and being set to 0.0 in labels with no predicted samples. Use `zero_division` parameter to control this behavior.\n",
            "  _warn_prf(average, modifier, msg_start, len(result))\n",
            "/usr/local/lib/python3.8/dist-packages/sklearn/metrics/_classification.py:1318: UndefinedMetricWarning: Precision and F-score are ill-defined and being set to 0.0 in labels with no predicted samples. Use `zero_division` parameter to control this behavior.\n",
            "  _warn_prf(average, modifier, msg_start, len(result))\n"
          ]
        }
      ]
    },
    {
      "cell_type": "code",
      "source": [
        "class_names=['low' , 'medium' , 'high'] # name  of classes\n",
        "fig, ax = plt.subplots()\n",
        "tick_marks = np.arange(len(class_names))\n",
        "plt.xticks(tick_marks, class_names)\n",
        "plt.yticks(tick_marks, class_names)\n",
        "# create heatmap\n",
        "sns.heatmap(pd.DataFrame(cnf_matrix_svm), annot=True, cmap=\"YlGnBu\" ,fmt='g')\n",
        "ax.xaxis.set_label_position(\"top\")\n",
        "plt.tight_layout()\n",
        "plt.title('Confusion matrix', y=1.1)\n",
        "plt.ylabel('Actual label')\n",
        "plt.xlabel('Predicted label')"
      ],
      "metadata": {
        "colab": {
          "base_uri": "https://localhost:8080/",
          "height": 342
        },
        "id": "x20hY_2LSrmt",
        "outputId": "197c0280-781e-4732-a270-04c33e772e49"
      },
      "execution_count": null,
      "outputs": [
        {
          "output_type": "execute_result",
          "data": {
            "text/plain": [
              "Text(0.5, 257.44, 'Predicted label')"
            ]
          },
          "metadata": {},
          "execution_count": 101
        },
        {
          "output_type": "display_data",
          "data": {
            "text/plain": [
              "<Figure size 432x288 with 2 Axes>"
            ],
            "image/png": "[encoded data removed]"
          },
          "metadata": {
            "needs_background": "light"
          }
        }
      ]
    },
    {
      "cell_type": "code",
      "source": [],
      "metadata": {
        "id": "oDZOC4DGSrrU"
      },
      "execution_count": null,
      "outputs": []
    }
  ]
}